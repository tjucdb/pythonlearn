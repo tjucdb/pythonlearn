{
 "cells": [
  {
   "cell_type": "markdown",
   "metadata": {},
   "source": [
    "# NumPy简介\n",
    "\n",
    "** PS：进入学习前首先要有Python的入门语法基础，这个教程是我自己在学习Python进行科学计算的时候做的笔记，希望到时候能帮助自己快速回忆起所学知识，也顺便给初学者一定的指导。如果有错误和问题欢迎交流 <chendb915@126.com> **\n",
    "\n",
    "## NumPy是什么\n",
    "NumPy是Python的一个科学计算库。因为能够直接对数组和矩阵进行操作，省略了很多循环语句等原因，NumPy进行科学计算的效率要比Python本生代码更高。\n",
    "\n",
    "这里推荐使用[Anaconda](https://www.continuum.io/downloads)，自带了NumPy、SciPy、Matplotlib等库。\n",
    "## Anaconda简单安装入门\n",
    "\n",
    "首先在这里下载适合你系统的版本：[Anaconda](https://www.continuum.io/downloads)\n",
    "\n",
    "安装完之后，升级conda、anaconda\n",
    ">conda update conda\n",
    "\n",
    ">conda update anaconda\n",
    "\n",
    "查看已经安装的库\n",
    ">conda list\n",
    "\n",
    "安装需要的库\n",
    ">conda install package_name\n",
    "\n",
    "升级所有库\n",
    ">conda update --all\n",
    "\n",
    "打开jupyter notebook，会打开一个网页版的界面。就可以进行操作了。\n",
    ">jupyter notebook\n",
    "\n",
    "注意如果要在指定路径下存放文件，首先要cd到目标目录，再打开jupyter。\n",
    "\n"
   ]
  }
 ],
 "metadata": {
  "kernelspec": {
   "display_name": "Python 3",
   "language": "python",
   "name": "python3"
  },
  "language_info": {
   "codemirror_mode": {
    "name": "ipython",
    "version": 3
   },
   "file_extension": ".py",
   "mimetype": "text/x-python",
   "name": "python",
   "nbconvert_exporter": "python",
   "pygments_lexer": "ipython3",
   "version": "3.5.1"
  }
 },
 "nbformat": 4,
 "nbformat_minor": 0
}
