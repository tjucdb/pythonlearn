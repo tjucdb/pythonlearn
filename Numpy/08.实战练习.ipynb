{
 "cells": [
  {
   "cell_type": "markdown",
   "metadata": {},
   "source": [
    "题目来源：[Some exercises-Scipy lecture notes](http://www.scipy-lectures.org/intro/numpy/exercises.html)\n",
    "\n",
    "## 数组操作\n",
    "**1.Form the 2-D array (without typing it in explicitly):**\n",
    "\n",
    "```\n",
    "[[1,  6, 11],\n",
    " [2,  7, 12],\n",
    " [3,  8, 13],\n",
    " [4,  9, 14],\n",
    " [5, 10, 15]]\n",
    " ```\n",
    " \n",
    "**and generate a new array containing its 2nd and 4th rows.**"
   ]
  },
  {
   "cell_type": "code",
   "execution_count": 1,
   "metadata": {
    "collapsed": false
   },
   "outputs": [
    {
     "data": {
      "text/plain": [
       "array([[ 1,  6, 11],\n",
       "       [ 2,  7, 12],\n",
       "       [ 3,  8, 13],\n",
       "       [ 4,  9, 14],\n",
       "       [ 5, 10, 15]])"
      ]
     },
     "execution_count": 1,
     "metadata": {},
     "output_type": "execute_result"
    }
   ],
   "source": [
    "import numpy as np\n",
    "a = np.arange(1,16).reshape(3,5).T\n",
    "a"
   ]
  },
  {
   "cell_type": "code",
   "execution_count": 2,
   "metadata": {
    "collapsed": false
   },
   "outputs": [
    {
     "data": {
      "text/plain": [
       "array([[ 2,  7, 12],\n",
       "       [ 4,  9, 14]])"
      ]
     },
     "execution_count": 2,
     "metadata": {},
     "output_type": "execute_result"
    }
   ],
   "source": [
    "b = a[1:4:2, :]\n",
    "b"
   ]
  },
  {
   "cell_type": "markdown",
   "metadata": {},
   "source": [
    "**2.Generate a 10 x 3 array of random numbers (in range [0,1]). For each row, pick the number closest to 0.5.**\n",
    "\n",
    "**\\*Use abs and argsort to find the column j closest for each row.**\n",
    "\n",
    "**\\*Use fancy indexing to extract the numbers. (Hint: a[i,j] – the array i must contain the row numbers corresponding to stuff in j.)**"
   ]
  },
  {
   "cell_type": "code",
   "execution_count": 3,
   "metadata": {
    "collapsed": false,
    "scrolled": true
   },
   "outputs": [
    {
     "data": {
      "text/plain": [
       "array([[ 0.50401919,  0.53286823,  0.5635683 ],\n",
       "       [ 0.99231194,  0.86333392,  0.04357723],\n",
       "       [ 0.45608448,  0.92779084,  0.51207225],\n",
       "       [ 0.7690492 ,  0.40190295,  0.00848405],\n",
       "       [ 0.53849656,  0.94451514,  0.77036006],\n",
       "       [ 0.05292694,  0.8661317 ,  0.05104528],\n",
       "       [ 0.43238107,  0.79917367,  0.25512145],\n",
       "       [ 0.96159239,  0.56313458,  0.50483504],\n",
       "       [ 0.34355931,  0.52437379,  0.93653181],\n",
       "       [ 0.55768109,  0.60598157,  0.63620486]])"
      ]
     },
     "execution_count": 3,
     "metadata": {},
     "output_type": "execute_result"
    }
   ],
   "source": [
    "import numpy as np\n",
    "a = np.random.random_sample((10,3))\n",
    "a"
   ]
  },
  {
   "cell_type": "code",
   "execution_count": 4,
   "metadata": {
    "collapsed": false
   },
   "outputs": [
    {
     "data": {
      "text/plain": [
       "array([[ 0.00401919,  0.03286823,  0.0635683 ],\n",
       "       [ 0.49231194,  0.36333392,  0.45642277],\n",
       "       [ 0.04391552,  0.42779084,  0.01207225],\n",
       "       [ 0.2690492 ,  0.09809705,  0.49151595],\n",
       "       [ 0.03849656,  0.44451514,  0.27036006],\n",
       "       [ 0.44707306,  0.3661317 ,  0.44895472],\n",
       "       [ 0.06761893,  0.29917367,  0.24487855],\n",
       "       [ 0.46159239,  0.06313458,  0.00483504],\n",
       "       [ 0.15644069,  0.02437379,  0.43653181],\n",
       "       [ 0.05768109,  0.10598157,  0.13620486]])"
      ]
     },
     "execution_count": 4,
     "metadata": {},
     "output_type": "execute_result"
    }
   ],
   "source": [
    "b = abs(a-0.5)\n",
    "b"
   ]
  },
  {
   "cell_type": "code",
   "execution_count": 5,
   "metadata": {
    "collapsed": false,
    "scrolled": true
   },
   "outputs": [
    {
     "data": {
      "text/plain": [
       "array([0, 1, 2, 1, 0, 1, 0, 2, 1, 0])"
      ]
     },
     "execution_count": 5,
     "metadata": {},
     "output_type": "execute_result"
    }
   ],
   "source": [
    "c = b.argmin(axis=1)\n",
    "c"
   ]
  },
  {
   "cell_type": "code",
   "execution_count": 6,
   "metadata": {
    "collapsed": false
   },
   "outputs": [
    {
     "data": {
      "text/plain": [
       "array([ 0.50401919,  0.86333392,  0.51207225,  0.40190295,  0.53849656,\n",
       "        0.8661317 ,  0.43238107,  0.50483504,  0.52437379,  0.55768109])"
      ]
     },
     "execution_count": 6,
     "metadata": {},
     "output_type": "execute_result"
    }
   ],
   "source": [
    "a[np.arange(10), c]  #fancy indexing"
   ]
  },
  {
   "cell_type": "markdown",
   "metadata": {},
   "source": [
    "## 数据分析"
   ]
  },
  {
   "cell_type": "markdown",
   "metadata": {},
   "source": [
    "The data in [populations.txt](/populations.txt) describes the populations of hares and lynxes (and carrots) in northern Canada during 20 years:\n",
    "\n",
    "Computes and print, based on the data in populations.txt:\n",
    "\n",
    "1.The mean and std of the populations of each species for the years in the period.\n",
    "\n",
    "2.Which year each species had the largest population.\n",
    "\n",
    "3.Which species has the largest population for each year. (Hint: argsort & fancy indexing of np.array(['H', 'L', 'C']))\n",
    "\n",
    "4.Which years any of the populations is above 50000. (Hint: comparisons and np.any)\n",
    "\n",
    "5.The top 2 years for each species when they had the lowest populations. (Hint: argsort, fancy indexing)\n",
    "\n",
    "6.Compare (plot) the change in hare population (see help(np.gradient)) and the number of lynxes. Check correlation (see help(np.corrcoef)).\n",
    "\n",
    "... all without for-loops."
   ]
  },
  {
   "cell_type": "code",
   "execution_count": 7,
   "metadata": {
    "collapsed": false
   },
   "outputs": [
    {
     "data": {
      "text/plain": [
       "<matplotlib.legend.Legend at 0x7f9c653f5978>"
      ]
     },
     "execution_count": 7,
     "metadata": {},
     "output_type": "execute_result"
    },
    {
     "data": {
      "image/png": "[encoded data removed]",
      "text/plain": [
       "<matplotlib.figure.Figure at 0x7f9c88464e48>"
      ]
     },
     "metadata": {},
     "output_type": "display_data"
    }
   ],
   "source": [
    "%matplotlib inline\n",
    "import matplotlib.pyplot as plt\n",
    "data = np.loadtxt('populations.txt')\n",
    "year, hares, lynxes, carrots = data.T\n",
    "plt.plot(year, hares, year, lynxes, year, carrots )\n",
    "plt.legend(('Hare', 'Lynx', 'Carrot'), loc='upper right')"
   ]
  },
  {
   "cell_type": "code",
   "execution_count": 8,
   "metadata": {
    "collapsed": false
   },
   "outputs": [
    {
     "data": {
      "text/plain": [
       "array([ 34080.95238095,  20166.66666667,  42400.        ])"
      ]
     },
     "execution_count": 8,
     "metadata": {},
     "output_type": "execute_result"
    }
   ],
   "source": [
    "populations = data[:, 1:]\n",
    "populations.mean(axis=0)"
   ]
  },
  {
   "cell_type": "code",
   "execution_count": 9,
   "metadata": {
    "collapsed": false
   },
   "outputs": [
    {
     "data": {
      "text/plain": [
       "array([ 20897.90645809,  16254.59153691,   3322.50622558])"
      ]
     },
     "execution_count": 9,
     "metadata": {},
     "output_type": "execute_result"
    }
   ],
   "source": [
    "populations.std(axis=0)"
   ]
  },
  {
   "cell_type": "code",
   "execution_count": 10,
   "metadata": {
    "collapsed": false
   },
   "outputs": [
    {
     "data": {
      "text/plain": [
       "array([ 1903.,  1904.,  1900.])"
      ]
     },
     "execution_count": 10,
     "metadata": {},
     "output_type": "execute_result"
    }
   ],
   "source": [
    "max_year = populations.argmax(axis=0)\n",
    "year[max_year]"
   ]
  },
  {
   "cell_type": "code",
   "execution_count": 11,
   "metadata": {
    "collapsed": false
   },
   "outputs": [
    {
     "name": "stdout",
     "output_type": "stream",
     "text": [
      "[ 1900.  1901.  1902.  1903.  1904.  1905.  1906.  1907.  1908.  1909.\n",
      "  1910.  1911.  1912.  1913.  1914.  1915.  1916.  1917.  1918.  1919.\n",
      "  1920.]\n",
      "['carrot' 'carrot' 'hare' 'hare' 'lynx' 'lynx' 'carrot' 'carrot' 'carrot'\n",
      " 'carrot' 'carrot' 'carrot' 'hare' 'hare' 'hare' 'lynx' 'carrot' 'carrot'\n",
      " 'carrot' 'carrot' 'carrot']\n"
     ]
    }
   ],
   "source": [
    "max_species = populations.argmax(axis=1)\n",
    "species = np.array(['hare', 'lynx', 'carrot'])\n",
    "print (year)\n",
    "print (species[max_species])"
   ]
  },
  {
   "cell_type": "code",
   "execution_count": 12,
   "metadata": {
    "collapsed": false
   },
   "outputs": [
    {
     "data": {
      "text/plain": [
       "array([ 1902.,  1903.,  1904.,  1912.,  1913.,  1914.,  1915.])"
      ]
     },
     "execution_count": 12,
     "metadata": {},
     "output_type": "execute_result"
    }
   ],
   "source": [
    "above_50000 = np.any(populations  > 50000, axis=1)\n",
    "year[above_50000]"
   ]
  },
  {
   "cell_type": "code",
   "execution_count": 13,
   "metadata": {
    "collapsed": false
   },
   "outputs": [
    {
     "data": {
      "text/plain": [
       "array([[ 1917.,  1900.,  1916.],\n",
       "       [ 1916.,  1901.,  1903.]])"
      ]
     },
     "execution_count": 13,
     "metadata": {},
     "output_type": "execute_result"
    }
   ],
   "source": [
    "top_2 = np.argsort(populations, axis=0)[:2]\n",
    "year[top_2]"
   ]
  },
  {
   "cell_type": "code",
   "execution_count": 14,
   "metadata": {
    "collapsed": false
   },
   "outputs": [
    {
     "data": {
      "text/plain": [
       "-0.91792484803153407"
      ]
     },
     "execution_count": 14,
     "metadata": {},
     "output_type": "execute_result"
    }
   ],
   "source": [
    "hare_grad = np.gradient(hares, 1.0) #gradient 梯度\n",
    "np.corrcoef(hare_grad, lynxes)[0,1]"
   ]
  },
  {
   "cell_type": "code",
   "execution_count": 15,
   "metadata": {
    "collapsed": false
   },
   "outputs": [
    {
     "data": {
      "text/plain": [
       "[<matplotlib.lines.Line2D at 0x7f9c6512de48>,\n",
       " <matplotlib.lines.Line2D at 0x7f9c65133898>]"
      ]
     },
     "execution_count": 15,
     "metadata": {},
     "output_type": "execute_result"
    },
    {
     "data": {
      "image/png": "[encoded data removed]",
      "text/plain": [
       "<matplotlib.figure.Figure at 0x7f9c780a5c18>"
      ]
     },
     "metadata": {},
     "output_type": "display_data"
    }
   ],
   "source": [
    "plt.plot(year, hare_grad, year, -lynxes)"
   ]
  },
  {
   "cell_type": "markdown",
   "metadata": {},
   "source": [
    "![pic](exercise0.png)"
   ]
  },
  {
   "cell_type": "code",
   "execution_count": 16,
   "metadata": {
    "collapsed": false
   },
   "outputs": [
    {
     "data": {
      "text/plain": [
       "0.1888423460296792"
      ]
     },
     "execution_count": 16,
     "metadata": {},
     "output_type": "execute_result"
    }
   ],
   "source": [
    "import numpy as np\n",
    "def f(a, b, c):\n",
    "    return a**b - c\n",
    "\n",
    "a, b, c = np.ogrid[0:1:24j, 0:1:12j, 0:1:6j] #注意：ogrid[0:30:20]是指间隔为20，ogrid[0:30:20j]是指取20个数\n",
    "samples = f(a, b, c)\n",
    "integral = samples.mean()\n",
    "integral"
   ]
  },
  {
   "cell_type": "code",
   "execution_count": 17,
   "metadata": {
    "collapsed": false
   },
   "outputs": [
    {
     "data": {
      "text/plain": [
       "0.19314718055994529"
      ]
     },
     "execution_count": 17,
     "metadata": {},
     "output_type": "execute_result"
    }
   ],
   "source": [
    "np.log(2) - 0.5"
   ]
  },
  {
   "cell_type": "code",
   "execution_count": 18,
   "metadata": {
    "collapsed": false,
    "scrolled": true
   },
   "outputs": [
    {
     "data": {
      "text/plain": [
       "array([ 0, 20])"
      ]
     },
     "execution_count": 18,
     "metadata": {},
     "output_type": "execute_result"
    }
   ],
   "source": [
    "np.ogrid[0:30:20]"
   ]
  },
  {
   "cell_type": "code",
   "execution_count": 19,
   "metadata": {
    "collapsed": false
   },
   "outputs": [
    {
     "data": {
      "text/plain": [
       "array([  0.        ,   1.57894737,   3.15789474,   4.73684211,\n",
       "         6.31578947,   7.89473684,   9.47368421,  11.05263158,\n",
       "        12.63157895,  14.21052632,  15.78947368,  17.36842105,\n",
       "        18.94736842,  20.52631579,  22.10526316,  23.68421053,\n",
       "        25.26315789,  26.84210526,  28.42105263,  30.        ])"
      ]
     },
     "execution_count": 19,
     "metadata": {},
     "output_type": "execute_result"
    }
   ],
   "source": [
    "np.ogrid[0:30:20j]"
   ]
  }
 ],
 "metadata": {
  "kernelspec": {
   "display_name": "Python 3",
   "language": "python",
   "name": "python3"
  },
  "language_info": {
   "codemirror_mode": {
    "name": "ipython",
    "version": 3
   },
   "file_extension": ".py",
   "mimetype": "text/x-python",
   "name": "python",
   "nbconvert_exporter": "python",
   "pygments_lexer": "ipython3",
   "version": "3.5.1"
  }
 },
 "nbformat": 4,
 "nbformat_minor": 0
}
